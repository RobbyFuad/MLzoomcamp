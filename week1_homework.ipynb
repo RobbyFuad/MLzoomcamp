{
 "cells": [
  {
   "cell_type": "code",
   "execution_count": 4,
   "id": "e74402e1-b7b6-4d8d-bcd1-7390d50c5e50",
   "metadata": {},
   "outputs": [
    {
     "data": {
      "text/plain": [
       "'1.4.4'"
      ]
     },
     "execution_count": 4,
     "metadata": {},
     "output_type": "execute_result"
    }
   ],
   "source": [
    "pd.__version__"
   ]
  },
  {
   "cell_type": "code",
   "execution_count": 6,
   "id": "5da41633-38bf-4f1f-9a9b-43bb33177080",
   "metadata": {},
   "outputs": [
    {
     "name": "stdout",
     "output_type": "stream",
     "text": [
      "--2023-09-18 17:37:40--  https://raw.githubusercontent.com/alexeygrigorev/datasets/master/housing.csv\n",
      "Resolving raw.githubusercontent.com (raw.githubusercontent.com)... 185.199.109.133, 185.199.110.133, 185.199.111.133, ...\n",
      "Connecting to raw.githubusercontent.com (raw.githubusercontent.com)|185.199.109.133|:443... connected.\n",
      "HTTP request sent, awaiting response... 200 OK\n",
      "Length: 1423529 (1.4M) [text/plain]\n",
      "Saving to: ‘housing.csv’\n",
      "\n",
      "housing.csv         100%[===================>]   1.36M   932KB/s    in 1.5s    \n",
      "\n",
      "2023-09-18 17:37:43 (932 KB/s) - ‘housing.csv’ saved [1423529/1423529]\n",
      "\n"
     ]
    }
   ],
   "source": [
    "!wget https://raw.githubusercontent.com/alexeygrigorev/datasets/master/housing.csv"
   ]
  },
  {
   "cell_type": "code",
   "execution_count": 8,
   "id": "d5d33e46-c986-4727-a67b-26f72138f5c0",
   "metadata": {},
   "outputs": [],
   "source": [
    "data = pd.read_csv('housing.csv')"
   ]
  },
  {
   "cell_type": "code",
   "execution_count": 20,
   "id": "0c4a7e44-aec7-4c7f-83cc-092766a8b257",
   "metadata": {},
   "outputs": [
    {
     "name": "stdout",
     "output_type": "stream",
     "text": [
      "<class 'pandas.core.frame.DataFrame'>\n",
      "RangeIndex: 20640 entries, 0 to 20639\n",
      "Data columns (total 10 columns):\n",
      " #   Column              Non-Null Count  Dtype  \n",
      "---  ------              --------------  -----  \n",
      " 0   longitude           20640 non-null  float64\n",
      " 1   latitude            20640 non-null  float64\n",
      " 2   housing_median_age  20640 non-null  float64\n",
      " 3   total_rooms         20640 non-null  float64\n",
      " 4   total_bedrooms      20640 non-null  float64\n",
      " 5   population          20640 non-null  float64\n",
      " 6   households          20640 non-null  float64\n",
      " 7   median_income       20640 non-null  float64\n",
      " 8   median_house_value  20640 non-null  float64\n",
      " 9   ocean_proximity     20640 non-null  object \n",
      "dtypes: float64(9), object(1)\n",
      "memory usage: 1.6+ MB\n"
     ]
    }
   ],
   "source": [
    "data.info()"
   ]
  },
  {
   "cell_type": "code",
   "execution_count": 11,
   "id": "641101e2-f263-4262-95e8-4b4d29bf3f8c",
   "metadata": {},
   "outputs": [
    {
     "data": {
      "text/plain": [
       "5"
      ]
     },
     "execution_count": 11,
     "metadata": {},
     "output_type": "execute_result"
    }
   ],
   "source": [
    "data.ocean_proximity.nunique()"
   ]
  },
  {
   "cell_type": "code",
   "execution_count": 19,
   "id": "e97e9e20-7b40-4dbf-bf40-58c896bccf6d",
   "metadata": {},
   "outputs": [
    {
     "data": {
      "text/html": [
       "<div>\n",
       "<style scoped>\n",
       "    .dataframe tbody tr th:only-of-type {\n",
       "        vertical-align: middle;\n",
       "    }\n",
       "\n",
       "    .dataframe tbody tr th {\n",
       "        vertical-align: top;\n",
       "    }\n",
       "\n",
       "    .dataframe thead th {\n",
       "        text-align: right;\n",
       "    }\n",
       "</style>\n",
       "<table border=\"1\" class=\"dataframe\">\n",
       "  <thead>\n",
       "    <tr style=\"text-align: right;\">\n",
       "      <th></th>\n",
       "      <th>longitude</th>\n",
       "      <th>latitude</th>\n",
       "      <th>housing_median_age</th>\n",
       "      <th>total_rooms</th>\n",
       "      <th>total_bedrooms</th>\n",
       "      <th>population</th>\n",
       "      <th>households</th>\n",
       "      <th>median_income</th>\n",
       "      <th>median_house_value</th>\n",
       "    </tr>\n",
       "  </thead>\n",
       "  <tbody>\n",
       "    <tr>\n",
       "      <th>count</th>\n",
       "      <td>2290.000000</td>\n",
       "      <td>2290.000000</td>\n",
       "      <td>2290.000000</td>\n",
       "      <td>2290.000000</td>\n",
       "      <td>2290.000000</td>\n",
       "      <td>2290.000000</td>\n",
       "      <td>2290.000000</td>\n",
       "      <td>2290.000000</td>\n",
       "      <td>2290.000000</td>\n",
       "    </tr>\n",
       "    <tr>\n",
       "      <th>mean</th>\n",
       "      <td>-122.260694</td>\n",
       "      <td>37.801057</td>\n",
       "      <td>37.730131</td>\n",
       "      <td>2493.589520</td>\n",
       "      <td>2773.555125</td>\n",
       "      <td>1230.317467</td>\n",
       "      <td>488.616157</td>\n",
       "      <td>4.172885</td>\n",
       "      <td>259212.311790</td>\n",
       "    </tr>\n",
       "    <tr>\n",
       "      <th>std</th>\n",
       "      <td>0.147004</td>\n",
       "      <td>0.185434</td>\n",
       "      <td>13.070385</td>\n",
       "      <td>1830.817022</td>\n",
       "      <td>24078.577681</td>\n",
       "      <td>885.899035</td>\n",
       "      <td>350.598369</td>\n",
       "      <td>2.017427</td>\n",
       "      <td>122818.537064</td>\n",
       "    </tr>\n",
       "    <tr>\n",
       "      <th>min</th>\n",
       "      <td>-122.590000</td>\n",
       "      <td>37.350000</td>\n",
       "      <td>2.000000</td>\n",
       "      <td>8.000000</td>\n",
       "      <td>1.000000</td>\n",
       "      <td>8.000000</td>\n",
       "      <td>1.000000</td>\n",
       "      <td>0.499900</td>\n",
       "      <td>22500.000000</td>\n",
       "    </tr>\n",
       "    <tr>\n",
       "      <th>25%</th>\n",
       "      <td>-122.410000</td>\n",
       "      <td>37.730000</td>\n",
       "      <td>29.000000</td>\n",
       "      <td>1431.250000</td>\n",
       "      <td>290.000000</td>\n",
       "      <td>718.250000</td>\n",
       "      <td>275.000000</td>\n",
       "      <td>2.834750</td>\n",
       "      <td>162500.000000</td>\n",
       "    </tr>\n",
       "    <tr>\n",
       "      <th>50%</th>\n",
       "      <td>-122.250000</td>\n",
       "      <td>37.790000</td>\n",
       "      <td>39.000000</td>\n",
       "      <td>2083.000000</td>\n",
       "      <td>425.500000</td>\n",
       "      <td>1033.500000</td>\n",
       "      <td>406.000000</td>\n",
       "      <td>3.818650</td>\n",
       "      <td>233800.000000</td>\n",
       "    </tr>\n",
       "    <tr>\n",
       "      <th>75%</th>\n",
       "      <td>-122.140000</td>\n",
       "      <td>37.907500</td>\n",
       "      <td>52.000000</td>\n",
       "      <td>3029.750000</td>\n",
       "      <td>641.000000</td>\n",
       "      <td>1495.000000</td>\n",
       "      <td>599.250000</td>\n",
       "      <td>5.054425</td>\n",
       "      <td>345700.000000</td>\n",
       "    </tr>\n",
       "    <tr>\n",
       "      <th>max</th>\n",
       "      <td>-122.010000</td>\n",
       "      <td>38.340000</td>\n",
       "      <td>52.000000</td>\n",
       "      <td>18634.000000</td>\n",
       "      <td>259212.311790</td>\n",
       "      <td>8276.000000</td>\n",
       "      <td>3589.000000</td>\n",
       "      <td>15.000100</td>\n",
       "      <td>500001.000000</td>\n",
       "    </tr>\n",
       "  </tbody>\n",
       "</table>\n",
       "</div>"
      ],
      "text/plain": [
       "         longitude     latitude  housing_median_age   total_rooms  \\\n",
       "count  2290.000000  2290.000000         2290.000000   2290.000000   \n",
       "mean   -122.260694    37.801057           37.730131   2493.589520   \n",
       "std       0.147004     0.185434           13.070385   1830.817022   \n",
       "min    -122.590000    37.350000            2.000000      8.000000   \n",
       "25%    -122.410000    37.730000           29.000000   1431.250000   \n",
       "50%    -122.250000    37.790000           39.000000   2083.000000   \n",
       "75%    -122.140000    37.907500           52.000000   3029.750000   \n",
       "max    -122.010000    38.340000           52.000000  18634.000000   \n",
       "\n",
       "       total_bedrooms   population   households  median_income  \\\n",
       "count     2290.000000  2290.000000  2290.000000    2290.000000   \n",
       "mean      2773.555125  1230.317467   488.616157       4.172885   \n",
       "std      24078.577681   885.899035   350.598369       2.017427   \n",
       "min          1.000000     8.000000     1.000000       0.499900   \n",
       "25%        290.000000   718.250000   275.000000       2.834750   \n",
       "50%        425.500000  1033.500000   406.000000       3.818650   \n",
       "75%        641.000000  1495.000000   599.250000       5.054425   \n",
       "max     259212.311790  8276.000000  3589.000000      15.000100   \n",
       "\n",
       "       median_house_value  \n",
       "count         2290.000000  \n",
       "mean        259212.311790  \n",
       "std         122818.537064  \n",
       "min          22500.000000  \n",
       "25%         162500.000000  \n",
       "50%         233800.000000  \n",
       "75%         345700.000000  \n",
       "max         500001.000000  "
      ]
     },
     "execution_count": 19,
     "metadata": {},
     "output_type": "execute_result"
    }
   ],
   "source": [
    "data[data.ocean_proximity == 'NEAR BAY'].describe()"
   ]
  },
  {
   "cell_type": "code",
   "execution_count": 16,
   "id": "b92e6bcf-dd04-4e25-b2e0-32a22912f77c",
   "metadata": {},
   "outputs": [
    {
     "data": {
      "text/plain": [
       "array(['NEAR BAY', '<1H OCEAN', 'INLAND', 'NEAR OCEAN', 'ISLAND'],\n",
       "      dtype=object)"
      ]
     },
     "execution_count": 16,
     "metadata": {},
     "output_type": "execute_result"
    }
   ],
   "source": [
    "data.ocean_proximity.unique()"
   ]
  },
  {
   "cell_type": "code",
   "execution_count": 18,
   "id": "79084002-cdb9-40a1-8258-d45b3855055c",
   "metadata": {},
   "outputs": [],
   "source": [
    "data.total_bedrooms.fillna(259212.311790, inplace=True)"
   ]
  },
  {
   "cell_type": "code",
   "execution_count": 22,
   "id": "b71057ed-2fc4-4440-b3f3-28cd6069344e",
   "metadata": {},
   "outputs": [],
   "source": [
    "data_7 = data[data.ocean_proximity == 'ISLAND'][[ 'housing_median_age', 'total_rooms', 'total_bedrooms']]"
   ]
  },
  {
   "cell_type": "code",
   "execution_count": 36,
   "id": "95320abc-64f6-4c28-a475-cc8e80842dc7",
   "metadata": {},
   "outputs": [
    {
     "data": {
      "text/html": [
       "<div>\n",
       "<style scoped>\n",
       "    .dataframe tbody tr th:only-of-type {\n",
       "        vertical-align: middle;\n",
       "    }\n",
       "\n",
       "    .dataframe tbody tr th {\n",
       "        vertical-align: top;\n",
       "    }\n",
       "\n",
       "    .dataframe thead th {\n",
       "        text-align: right;\n",
       "    }\n",
       "</style>\n",
       "<table border=\"1\" class=\"dataframe\">\n",
       "  <thead>\n",
       "    <tr style=\"text-align: right;\">\n",
       "      <th></th>\n",
       "      <th>housing_median_age</th>\n",
       "      <th>total_rooms</th>\n",
       "      <th>total_bedrooms</th>\n",
       "    </tr>\n",
       "  </thead>\n",
       "  <tbody>\n",
       "    <tr>\n",
       "      <th>8314</th>\n",
       "      <td>27.0</td>\n",
       "      <td>1675.0</td>\n",
       "      <td>521.0</td>\n",
       "    </tr>\n",
       "    <tr>\n",
       "      <th>8315</th>\n",
       "      <td>52.0</td>\n",
       "      <td>2359.0</td>\n",
       "      <td>591.0</td>\n",
       "    </tr>\n",
       "    <tr>\n",
       "      <th>8316</th>\n",
       "      <td>52.0</td>\n",
       "      <td>2127.0</td>\n",
       "      <td>512.0</td>\n",
       "    </tr>\n",
       "    <tr>\n",
       "      <th>8317</th>\n",
       "      <td>52.0</td>\n",
       "      <td>996.0</td>\n",
       "      <td>264.0</td>\n",
       "    </tr>\n",
       "    <tr>\n",
       "      <th>8318</th>\n",
       "      <td>29.0</td>\n",
       "      <td>716.0</td>\n",
       "      <td>214.0</td>\n",
       "    </tr>\n",
       "  </tbody>\n",
       "</table>\n",
       "</div>"
      ],
      "text/plain": [
       "      housing_median_age  total_rooms  total_bedrooms\n",
       "8314                27.0       1675.0           521.0\n",
       "8315                52.0       2359.0           591.0\n",
       "8316                52.0       2127.0           512.0\n",
       "8317                52.0        996.0           264.0\n",
       "8318                29.0        716.0           214.0"
      ]
     },
     "execution_count": 36,
     "metadata": {},
     "output_type": "execute_result"
    }
   ],
   "source": [
    "data_7"
   ]
  },
  {
   "cell_type": "code",
   "execution_count": 26,
   "id": "126e8192-5105-44ec-a912-9a1565468609",
   "metadata": {},
   "outputs": [],
   "source": [
    "import numpy as np\n",
    "X = np.array(data_7)"
   ]
  },
  {
   "cell_type": "code",
   "execution_count": 27,
   "id": "8e557d78-2dca-4806-9e28-dd2dc79dcd9b",
   "metadata": {},
   "outputs": [
    {
     "data": {
      "text/plain": [
       "array([[  27.,   52.,   52.,   52.,   29.],\n",
       "       [1675., 2359., 2127.,  996.,  716.],\n",
       "       [ 521.,  591.,  512.,  264.,  214.]])"
      ]
     },
     "execution_count": 27,
     "metadata": {},
     "output_type": "execute_result"
    }
   ],
   "source": [
    "np.transpose(X)"
   ]
  },
  {
   "cell_type": "code",
   "execution_count": 42,
   "id": "612aa816-3dc5-404e-b41d-402bb1001d92",
   "metadata": {},
   "outputs": [],
   "source": [
    "XTX = np.matmul(np.transpose(X), X)"
   ]
  },
  {
   "cell_type": "code",
   "execution_count": 43,
   "id": "6e7729f4-582f-4179-8dbf-92d64b6d75b4",
   "metadata": {},
   "outputs": [
    {
     "data": {
      "text/plain": [
       "array([[9.6820000e+03, 3.5105300e+05, 9.1357000e+04],\n",
       "       [3.5105300e+05, 1.4399307e+07, 3.7720360e+06],\n",
       "       [9.1357000e+04, 3.7720360e+06, 9.9835800e+05]])"
      ]
     },
     "execution_count": 43,
     "metadata": {},
     "output_type": "execute_result"
    }
   ],
   "source": [
    "XTX"
   ]
  },
  {
   "cell_type": "code",
   "execution_count": 44,
   "id": "ee581529-dc26-4656-b655-f2eae3e9b8cb",
   "metadata": {},
   "outputs": [],
   "source": [
    "inv_XTX = np.linalg.inv(XTX)"
   ]
  },
  {
   "cell_type": "code",
   "execution_count": 45,
   "id": "8be1d710-96d7-4636-aca6-7e7057e90df6",
   "metadata": {},
   "outputs": [
    {
     "data": {
      "text/plain": [
       "array([[ 9.19403586e-04, -3.66412216e-05,  5.43072261e-05],\n",
       "       [-3.66412216e-05,  8.23303633e-06, -2.77534485e-05],\n",
       "       [ 5.43072261e-05, -2.77534485e-05,  1.00891325e-04]])"
      ]
     },
     "execution_count": 45,
     "metadata": {},
     "output_type": "execute_result"
    }
   ],
   "source": [
    "inv_XTX"
   ]
  },
  {
   "cell_type": "code",
   "execution_count": 46,
   "id": "9b4eafeb-bd3e-426c-b54e-abab9f40563a",
   "metadata": {},
   "outputs": [],
   "source": [
    "y = np.array([950, 1300, 800, 1000, 1300])"
   ]
  },
  {
   "cell_type": "code",
   "execution_count": 47,
   "id": "e2bb1961-bc87-4f21-ad91-6a129a0bdee8",
   "metadata": {},
   "outputs": [
    {
     "data": {
      "text/plain": [
       "array([ 950, 1300,  800, 1000, 1300])"
      ]
     },
     "execution_count": 47,
     "metadata": {},
     "output_type": "execute_result"
    }
   ],
   "source": [
    "y"
   ]
  },
  {
   "cell_type": "code",
   "execution_count": 49,
   "id": "6ad47f03-a765-4481-b0b3-1b9302d3ea0d",
   "metadata": {},
   "outputs": [
    {
     "data": {
      "text/plain": [
       "array([23.12330961, -1.48124183,  5.69922946])"
      ]
     },
     "execution_count": 49,
     "metadata": {},
     "output_type": "execute_result"
    }
   ],
   "source": [
    "np.matmul(np.matmul(inv_XTX, np.transpose(X)), y)"
   ]
  },
  {
   "cell_type": "code",
   "execution_count": 35,
   "id": "bb981bb2-66a3-47b0-9842-3e8b1e2f0cad",
   "metadata": {},
   "outputs": [
    {
     "data": {
      "text/plain": [
       "array([-7.58655463e+11, -6.48844877e+14,  7.00208219e+14, -3.75147177e+14,\n",
       "        5.81284246e+14])"
      ]
     },
     "execution_count": 35,
     "metadata": {},
     "output_type": "execute_result"
    }
   ],
   "source": [
    "np.matmul(inv_XTX, y)"
   ]
  }
 ],
 "metadata": {
  "kernelspec": {
   "display_name": "Python 3 (ipykernel)",
   "language": "python",
   "name": "python3"
  },
  "language_info": {
   "codemirror_mode": {
    "name": "ipython",
    "version": 3
   },
   "file_extension": ".py",
   "mimetype": "text/x-python",
   "name": "python",
   "nbconvert_exporter": "python",
   "pygments_lexer": "ipython3",
   "version": "3.9.13"
  }
 },
 "nbformat": 4,
 "nbformat_minor": 5
}
